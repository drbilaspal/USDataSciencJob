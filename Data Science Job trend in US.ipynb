{
 "cells": [
  {
   "cell_type": "markdown",
   "metadata": {},
   "source": [
    "I am an experimental high energy physicist (till next month, April 2019). Last 10 years I basically worked on the scientific data analyses (as a student at Syracuse University and as a Postdoctoral Research Associate at University of Cincinnati and Brookhaven National Laboratory) to understand the matter antimatter asymmetry in the early universe. The  data I used are the data collected at CERN's LHCb experiment and KEK's Belle experiment. My publication list can be found  [here](https://inspirehep.net/author/profile/Bilas.K.Pal.1).  \n",
    "\n",
    "I recently find that the Real World Data Analysis in Data Science is more interesting than the Abstract Data Analysis in Particle Physics experiment. Also the opportunity is less in Academia. Beacuse of the big opportunities in Data Science, I decided to switch my career. \n",
    "\n",
    "Here I did a simple Data analysis to understand the Data Science job Market in US. This is not an original Analysis, the data set is downloaded from Kaggle. And the entries are about six months old. However it still tells the current trend of Data Science Job Market in US. Some of my friend may be benifited from this analysis. "
   ]
  },
  {
   "cell_type": "markdown",
   "metadata": {},
   "source": [
    "### Initial Libraries"
   ]
  },
  {
   "cell_type": "code",
   "execution_count": 1,
   "metadata": {},
   "outputs": [],
   "source": [
    "import pandas as pd # linear algebra\n",
    "import numpy as np # data processing\n",
    "import matplotlib.pyplot as plt #plot\n",
    "%matplotlib inline \n",
    "import warnings\n",
    "warnings.filterwarnings(\"ignore\")"
   ]
  },
  {
   "cell_type": "markdown",
   "metadata": {},
   "source": [
    "### About the Data Set\n",
    "\n",
    "Data set is downloaded from [Kaggle](https://www.kaggle.com/sl6149/data-scientist-job-market-in-the-us). "
   ]
  },
  {
   "cell_type": "code",
   "execution_count": 2,
   "metadata": {},
   "outputs": [
    {
     "data": {
      "text/html": [
       "<div>\n",
       "<style scoped>\n",
       "    .dataframe tbody tr th:only-of-type {\n",
       "        vertical-align: middle;\n",
       "    }\n",
       "\n",
       "    .dataframe tbody tr th {\n",
       "        vertical-align: top;\n",
       "    }\n",
       "\n",
       "    .dataframe thead th {\n",
       "        text-align: right;\n",
       "    }\n",
       "</style>\n",
       "<table border=\"1\" class=\"dataframe\">\n",
       "  <thead>\n",
       "    <tr style=\"text-align: right;\">\n",
       "      <th></th>\n",
       "      <th>position</th>\n",
       "      <th>company</th>\n",
       "      <th>description</th>\n",
       "      <th>reviews</th>\n",
       "      <th>location</th>\n",
       "    </tr>\n",
       "  </thead>\n",
       "  <tbody>\n",
       "    <tr>\n",
       "      <th>0</th>\n",
       "      <td>Development Director</td>\n",
       "      <td>ALS TDI</td>\n",
       "      <td>Development Director\\nALS Therapy Development ...</td>\n",
       "      <td>NaN</td>\n",
       "      <td>Atlanta, GA 30301</td>\n",
       "    </tr>\n",
       "    <tr>\n",
       "      <th>1</th>\n",
       "      <td>An Ostentatiously-Excitable Principal Research...</td>\n",
       "      <td>The Hexagon Lavish</td>\n",
       "      <td>Job Description\\n\\n\"The road that leads to acc...</td>\n",
       "      <td>NaN</td>\n",
       "      <td>Atlanta, GA</td>\n",
       "    </tr>\n",
       "    <tr>\n",
       "      <th>2</th>\n",
       "      <td>Data Scientist</td>\n",
       "      <td>Xpert Staffing</td>\n",
       "      <td>Growing company located in the Atlanta, GA are...</td>\n",
       "      <td>NaN</td>\n",
       "      <td>Atlanta, GA</td>\n",
       "    </tr>\n",
       "  </tbody>\n",
       "</table>\n",
       "</div>"
      ],
      "text/plain": [
       "                                            position             company  \\\n",
       "0                               Development Director             ALS TDI   \n",
       "1  An Ostentatiously-Excitable Principal Research...  The Hexagon Lavish   \n",
       "2                                     Data Scientist      Xpert Staffing   \n",
       "\n",
       "                                         description  reviews  \\\n",
       "0  Development Director\\nALS Therapy Development ...      NaN   \n",
       "1  Job Description\\n\\n\"The road that leads to acc...      NaN   \n",
       "2  Growing company located in the Atlanta, GA are...      NaN   \n",
       "\n",
       "             location  \n",
       "0  Atlanta, GA 30301   \n",
       "1         Atlanta, GA  \n",
       "2         Atlanta, GA  "
      ]
     },
     "execution_count": 2,
     "metadata": {},
     "output_type": "execute_result"
    }
   ],
   "source": [
    "df = pd.read_csv('data-scientist-job-market-in-the-us/alldata.csv')\n",
    "df.head(3)"
   ]
  },
  {
   "cell_type": "code",
   "execution_count": 3,
   "metadata": {},
   "outputs": [
    {
     "name": "stdout",
     "output_type": "stream",
     "text": [
      "<class 'pandas.core.frame.DataFrame'>\n",
      "RangeIndex: 6964 entries, 0 to 6963\n",
      "Data columns (total 5 columns):\n",
      "position       6953 non-null object\n",
      "company        6953 non-null object\n",
      "description    6953 non-null object\n",
      "reviews        5326 non-null float64\n",
      "location       6953 non-null object\n",
      "dtypes: float64(1), object(4)\n",
      "memory usage: 272.1+ KB\n"
     ]
    }
   ],
   "source": [
    "df.info()"
   ]
  },
  {
   "cell_type": "markdown",
   "metadata": {},
   "source": [
    "From the data information we see that there are 11 rows with all NaN. It is better to remove these entires. "
   ]
  },
  {
   "cell_type": "code",
   "execution_count": 4,
   "metadata": {},
   "outputs": [
    {
     "name": "stdout",
     "output_type": "stream",
     "text": [
      "<class 'pandas.core.frame.DataFrame'>\n",
      "Int64Index: 6953 entries, 0 to 6963\n",
      "Data columns (total 5 columns):\n",
      "position       6953 non-null object\n",
      "company        6953 non-null object\n",
      "description    6953 non-null object\n",
      "reviews        6953 non-null float64\n",
      "location       6953 non-null object\n",
      "dtypes: float64(1), object(4)\n",
      "memory usage: 325.9+ KB\n"
     ]
    }
   ],
   "source": [
    "df['reviews'] = df['reviews'].fillna(0) #replaces NaN with 0.0\n",
    "df = df.dropna(axis=0, how = 'any')\n",
    "df.info()"
   ]
  },
  {
   "cell_type": "code",
   "execution_count": 5,
   "metadata": {},
   "outputs": [
    {
     "data": {
      "text/html": [
       "<div>\n",
       "<style scoped>\n",
       "    .dataframe tbody tr th:only-of-type {\n",
       "        vertical-align: middle;\n",
       "    }\n",
       "\n",
       "    .dataframe tbody tr th {\n",
       "        vertical-align: top;\n",
       "    }\n",
       "\n",
       "    .dataframe thead th {\n",
       "        text-align: right;\n",
       "    }\n",
       "</style>\n",
       "<table border=\"1\" class=\"dataframe\">\n",
       "  <thead>\n",
       "    <tr style=\"text-align: right;\">\n",
       "      <th></th>\n",
       "      <th>position</th>\n",
       "      <th>company</th>\n",
       "      <th>description</th>\n",
       "      <th>reviews</th>\n",
       "      <th>location</th>\n",
       "    </tr>\n",
       "  </thead>\n",
       "  <tbody>\n",
       "    <tr>\n",
       "      <th>0</th>\n",
       "      <td>Development Director</td>\n",
       "      <td>ALS TDI</td>\n",
       "      <td>Development Director\\nALS Therapy Development ...</td>\n",
       "      <td>0.0</td>\n",
       "      <td>Atlanta, GA 30301</td>\n",
       "    </tr>\n",
       "    <tr>\n",
       "      <th>1</th>\n",
       "      <td>An Ostentatiously-Excitable Principal Research...</td>\n",
       "      <td>The Hexagon Lavish</td>\n",
       "      <td>Job Description\\n\\n\"The road that leads to acc...</td>\n",
       "      <td>0.0</td>\n",
       "      <td>Atlanta, GA</td>\n",
       "    </tr>\n",
       "    <tr>\n",
       "      <th>2</th>\n",
       "      <td>Data Scientist</td>\n",
       "      <td>Xpert Staffing</td>\n",
       "      <td>Growing company located in the Atlanta, GA are...</td>\n",
       "      <td>0.0</td>\n",
       "      <td>Atlanta, GA</td>\n",
       "    </tr>\n",
       "  </tbody>\n",
       "</table>\n",
       "</div>"
      ],
      "text/plain": [
       "                                            position             company  \\\n",
       "0                               Development Director             ALS TDI   \n",
       "1  An Ostentatiously-Excitable Principal Research...  The Hexagon Lavish   \n",
       "2                                     Data Scientist      Xpert Staffing   \n",
       "\n",
       "                                         description  reviews  \\\n",
       "0  Development Director\\nALS Therapy Development ...      0.0   \n",
       "1  Job Description\\n\\n\"The road that leads to acc...      0.0   \n",
       "2  Growing company located in the Atlanta, GA are...      0.0   \n",
       "\n",
       "             location  \n",
       "0  Atlanta, GA 30301   \n",
       "1         Atlanta, GA  \n",
       "2         Atlanta, GA  "
      ]
     },
     "execution_count": 5,
     "metadata": {},
     "output_type": "execute_result"
    }
   ],
   "source": [
    "df.head(3)"
   ]
  },
  {
   "cell_type": "markdown",
   "metadata": {},
   "source": [
    "Let's first look the locations of JOB positions. Many of the locations include Zipcode, which we are not interested to explore. Let's remove them."
   ]
  },
  {
   "cell_type": "code",
   "execution_count": 8,
   "metadata": {},
   "outputs": [
    {
     "data": {
      "text/plain": [
       "array(['Atlanta, GA 30301 ', 'Atlanta, GA', 'Atlanta, GA 30303 '],\n",
       "      dtype=object)"
      ]
     },
     "execution_count": 8,
     "metadata": {},
     "output_type": "execute_result"
    }
   ],
   "source": [
    "Cities = df['location'].unique()\n",
    "Cities[0:3]"
   ]
  },
  {
   "cell_type": "code",
   "execution_count": 31,
   "metadata": {},
   "outputs": [],
   "source": [
    "import re #Regular Expression Syntax\n",
    "df['newlocation'] = [re.sub('[\\s*]+[\\d]+[\\d]+[\\d]+[\\d]+[\\d]','',row) for row in df['location']]\n",
    "df['newlocation'] = [str(row).rstrip() for row in df['newlocation']]"
   ]
  },
  {
   "cell_type": "code",
   "execution_count": 36,
   "metadata": {},
   "outputs": [
    {
     "data": {
      "text/plain": [
       "array(['Atlanta, GA', 'Austin, TX', 'Round Rock, TX', 'Cedar Park, TX',\n",
       "       'Boulder, CO', 'Boston, MA', 'Chicago, IL', 'Washington, DC',\n",
       "       'Los Angeles, CA', 'Cambridge, MA', 'Mountain View, CA',\n",
       "       'Manhattan, NY', 'New York, NY', 'Jersey City, NJ', 'Newark, NJ',\n",
       "       'Oakland, NJ', 'Bronx, NY', 'Hoboken, NJ', 'Brooklyn, NY',\n",
       "       'Rutherford, NJ', 'Union, NJ', 'Rahway, NJ', 'Murray Hill, NJ',\n",
       "       'South Plainfield, NJ', 'Queens, NY', 'Little Falls, NJ',\n",
       "       'Florham Park, NJ', 'Troy Hills, NJ', 'Bloomfield, NJ',\n",
       "       'Lynbrook, NY', 'Allendale, NJ', 'Parsippany, NJ',\n",
       "       'West Orange, NJ', 'Kenilworth, NJ', 'Ridgefield, NJ',\n",
       "       'Harrison, NY', 'Montclair, NJ', 'Fort Lee, NJ', 'Carlstadt, NJ',\n",
       "       'Orangeburg, NY', 'Fairfield, NJ', 'Palisades, NY',\n",
       "       'Hackensack, NJ', 'Roseland, NJ', 'East Hanover, NJ',\n",
       "       'Long Beach, NY', 'Whippany, NJ', 'Manhasset, NY', 'Yonkers, NY',\n",
       "       'New Hyde Park, NY', 'Secaucus, NJ', 'Port Washington, NY',\n",
       "       'Staten Island, NY', 'Short Hills, NJ', 'Manhattanville, NY',\n",
       "       'Woodcliff Lake, NJ', 'Redmond, WA', 'San Diego, CA',\n",
       "       'Bedminster, NJ', 'New Brunswick, NJ', 'Seattle, WA',\n",
       "       'San Francisco, CA', 'Redwood City, CA', 'San Mateo, CA',\n",
       "       'Berkeley, CA', 'San Francisco Bay Area, CA', 'Menlo Park, CA',\n",
       "       'Emeryville, CA', 'Oakland, CA', 'South San Francisco, CA',\n",
       "       'Foster City, CA', 'San Carlos, CA', 'Union City, CA',\n",
       "       'Burlingame, CA', 'Belmont, CA', 'Richmond, CA', 'Hayward, CA',\n",
       "       'Novato, CA', 'Alameda, CA', 'San Rafael, CA', 'Pleasant Hill, CA',\n",
       "       'San Bruno, CA', 'San Ramon, CA', 'Lafayette, CA',\n",
       "       'San Leandro, CA', 'Daly City, CA', 'Mill Valley, CA',\n",
       "       'Fremont, CA', 'Martinez, CA', 'Walnut Creek, CA', 'Kentfield, CA',\n",
       "       'Sunnyvale, CA'], dtype=object)"
      ]
     },
     "execution_count": 36,
     "metadata": {},
     "output_type": "execute_result"
    }
   ],
   "source": [
    "df['newlocation'].unique()"
   ]
  },
  {
   "cell_type": "markdown",
   "metadata": {},
   "source": [
    "It will be interesting to know ahead the top cities with many data science related jobs. Below is the plot of top 15 cities in the data set. Great to know that many jobs in New York, where I am currently living."
   ]
  },
  {
   "cell_type": "code",
   "execution_count": 66,
   "metadata": {},
   "outputs": [
    {
     "data": {
      "text/plain": [
       "New York, NY         848\n",
       "Seattle, WA          777\n",
       "Cambridge, MA        694\n",
       "Boston, MA           629\n",
       "San Francisco, CA    564\n",
       "Chicago, IL          471\n",
       "San Diego, CA        412\n",
       "Washington, DC       340\n",
       "Mountain View, CA    277\n",
       "Atlanta, GA          269\n",
       "Sunnyvale, CA        256\n",
       "Los Angeles, CA      254\n",
       "Boulder, CO          251\n",
       "Austin, TX           213\n",
       "Redmond, WA          158\n",
       "Name: newlocation, dtype: int64"
      ]
     },
     "execution_count": 66,
     "metadata": {},
     "output_type": "execute_result"
    }
   ],
   "source": [
    "df['newlocation'].value_counts().head(15)"
   ]
  },
  {
   "cell_type": "code",
   "execution_count": 37,
   "metadata": {},
   "outputs": [],
   "source": [
    "import seaborn as sns"
   ]
  },
  {
   "cell_type": "code",
   "execution_count": 101,
   "metadata": {
    "scrolled": false
   },
   "outputs": [
    {
     "data": {
      "text/plain": [
       "Text(0.5, 1.0, 'Top Cities with DS Job')"
      ]
     },
     "execution_count": 101,
     "metadata": {},
     "output_type": "execute_result"
    },
    {
     "data": {
      "image/png": "[encoded data removed]",
      "text/plain": [
       "<Figure size 360x360 with 1 Axes>"
      ]
     },
     "metadata": {
      "needs_background": "light"
     },
     "output_type": "display_data"
    }
   ],
   "source": [
    "fig,ax=plt.subplots(figsize=(5,5)) \n",
    "sns.barplot(x=df.newlocation.value_counts()[:15]\\\n",
    "            .values,y=df.newlocation.value_counts()[:15]\\\n",
    "            .index.values,orient='h')\n",
    "ax.set_xlabel('Number of Positions',fontsize=14,color='black')\n",
    "ax.set_ylabel('Cities',fontsize=14,color='black')   \n",
    "ax.set_title('Top Cities with DS Job',fontsize=14,color='black') "
   ]
  },
  {
   "cell_type": "markdown",
   "metadata": {},
   "source": [
    "Let's further divide the location into cities and states to rank the data science job by state."
   ]
  },
  {
   "cell_type": "code",
   "execution_count": 102,
   "metadata": {},
   "outputs": [],
   "source": [
    "df['city']  = [re.split(',', row)[0] for row in df['newlocation'] ]\n",
    "df['state'] = [re.split(',', row)[1] for row in df['newlocation'] ]\n",
    "df['city'] = [str(row).rstrip() for row in df['city']]\n",
    "df['state'] = [str(row).rstrip() for row in df['state']]"
   ]
  },
  {
   "cell_type": "code",
   "execution_count": 103,
   "metadata": {},
   "outputs": [
    {
     "data": {
      "text/plain": [
       " CA    2152\n",
       " MA    1323\n",
       " WA     935\n",
       " NY     926\n",
       " IL     471\n",
       " DC     340\n",
       " GA     269\n",
       " CO     251\n",
       " TX     218\n",
       " NJ      68\n",
       "Name: state, dtype: int64"
      ]
     },
     "execution_count": 103,
     "metadata": {},
     "output_type": "execute_result"
    }
   ],
   "source": [
    "df['state'].value_counts()"
   ]
  },
  {
   "cell_type": "code",
   "execution_count": 104,
   "metadata": {},
   "outputs": [
    {
     "data": {
      "text/plain": [
       "Text(0.5, 0, 'States')"
      ]
     },
     "execution_count": 104,
     "metadata": {},
     "output_type": "execute_result"
    },
    {
     "data": {
      "image/png": "[encoded data removed]",
      "text/plain": [
       "<Figure size 432x288 with 1 Axes>"
      ]
     },
     "metadata": {
      "needs_background": "light"
     },
     "output_type": "display_data"
    }
   ],
   "source": [
    "fig,ax=plt.subplots() \n",
    "sns.countplot(df['state'])\n",
    "ax.set_ylabel('Number of Positions',fontsize=14)\n",
    "ax.set_xlabel('States',fontsize=14)   "
   ]
  },
  {
   "cell_type": "markdown",
   "metadata": {},
   "source": [
    "Although New York city has lot of DS jobs, but there are lot of opportunities in other states too, for example, CA, MA, WA, IL states (basically states with big cities)."
   ]
  },
  {
   "cell_type": "markdown",
   "metadata": {},
   "source": [
    "Let's now look for the top companies who hire Data Scientist."
   ]
  },
  {
   "cell_type": "code",
   "execution_count": 105,
   "metadata": {},
   "outputs": [
    {
     "data": {
      "text/plain": [
       "Amazon.com                                358\n",
       "Ball Aerospace                            187\n",
       "Microsoft                                 137\n",
       "Google                                    134\n",
       "NYU Langone Health                         77\n",
       "Fred Hutchinson Cancer Research Center     70\n",
       "KPMG                                       66\n",
       "Lab126                                     50\n",
       "Broad Institute                            49\n",
       "Facebook                                   49\n",
       "Walmart eCommerce                          45\n",
       "McKinsey & Company                         41\n",
       "Takeda Pharmaceutical                      39\n",
       "Harnham                                    39\n",
       "University of Washington                   39\n",
       "Celgene Corporation                        34\n",
       "Pharmacyclics, an Abbvie Company           34\n",
       "Oath Inc                                   34\n",
       "Cymer                                      32\n",
       "Brigham & Women's Hospital(BWH)            31\n",
       "Biogen                                     30\n",
       "Sanofi                                     28\n",
       "Amgen                                      28\n",
       "Illumina                                   27\n",
       "JP Morgan Chase                            27\n",
       "Name: company, dtype: int64"
      ]
     },
     "execution_count": 105,
     "metadata": {},
     "output_type": "execute_result"
    }
   ],
   "source": [
    "df['company'].value_counts().head(25)"
   ]
  },
  {
   "cell_type": "code",
   "execution_count": 106,
   "metadata": {},
   "outputs": [
    {
     "data": {
      "text/plain": [
       "Text(0.5, 1.0, 'Top Companies who hire Data Scientists')"
      ]
     },
     "execution_count": 106,
     "metadata": {},
     "output_type": "execute_result"
    },
    {
     "data": {
      "image/png": "[encoded data removed]",
      "text/plain": [
       "<Figure size 360x576 with 1 Axes>"
      ]
     },
     "metadata": {
      "needs_background": "light"
     },
     "output_type": "display_data"
    }
   ],
   "source": [
    "fig,ax=plt.subplots(figsize=(5,8)) \n",
    "sns.barplot(x=df.company.value_counts()[:25]\\\n",
    "            .values,y=df.company.value_counts()[:25]\\\n",
    "            .index.values,orient='h')\n",
    "ax.set_xlabel('Number of Positions',fontsize=14)\n",
    "ax.set_ylabel('Companies',fontsize=14)   \n",
    "ax.set_title('Top Companies who hire Data Scientists',fontsize=14) "
   ]
  },
  {
   "cell_type": "markdown",
   "metadata": {},
   "source": [
    "After we know about the companies, let's now look for the top roles."
   ]
  },
  {
   "cell_type": "code",
   "execution_count": 120,
   "metadata": {},
   "outputs": [
    {
     "data": {
      "text/plain": [
       "Data Scientist                         351\n",
       "Senior Data Scientist                   96\n",
       "Research Analyst                        64\n",
       "Data Engineer                           60\n",
       "Machine Learning Engineer               56\n",
       "Lead Data Scientist                     31\n",
       "Research Scientist                      30\n",
       "Sr. Data Scientist                      28\n",
       "Principal Data Scientist                24\n",
       "Data Analyst                            22\n",
       "Software Engineer                       22\n",
       "Quantitative Analyst                    21\n",
       "Scientist                               17\n",
       "Product Manager                         17\n",
       "Bioinformatics Scientist                16\n",
       "Market Research Analyst                 15\n",
       "Senior Software Engineer                14\n",
       "Machine Learning Scientist              13\n",
       "Software Engineer, Machine Learning     13\n",
       "Senior Data Engineer                    12\n",
       "Senior Research Analyst                 12\n",
       "Senior Scientist                        11\n",
       "Associate Scientist                     11\n",
       "Software Development Engineer           11\n",
       "Staff Data Scientist                    11\n",
       "Name: position, dtype: int64"
      ]
     },
     "execution_count": 120,
     "metadata": {},
     "output_type": "execute_result"
    }
   ],
   "source": [
    "df['position'].value_counts().head(25)"
   ]
  },
  {
   "cell_type": "markdown",
   "metadata": {},
   "source": [
    "Next I would like to know:\n",
    "- what skills are required?\n",
    "- what degrees (Bachlor, MS, PhD, ...) / majors are in the top for Data Science Jobs?\n",
    "\n",
    "To answer these question I need more experience on Natural Language procesing. I know the anwsers, but I would like to answer these question in pythonic way by utlizing the skills I am learning.\n",
    "This notebook will be updated soon.\n"
   ]
  },
  {
   "cell_type": "code",
   "execution_count": null,
   "metadata": {},
   "outputs": [],
   "source": []
  }
 ],
 "metadata": {
  "kernelspec": {
   "display_name": "Python 3",
   "language": "python",
   "name": "python3"
  },
  "language_info": {
   "codemirror_mode": {
    "name": "ipython",
    "version": 3
   },
   "file_extension": ".py",
   "mimetype": "text/x-python",
   "name": "python",
   "nbconvert_exporter": "python",
   "pygments_lexer": "ipython3",
   "version": "3.7.1"
  }
 },
 "nbformat": 4,
 "nbformat_minor": 2
}
